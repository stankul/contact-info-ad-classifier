{
  "nbformat": 4,
  "nbformat_minor": 0,
  "metadata": {
    "colab": {
      "name": "notebook.ipynb",
      "provenance": [],
      "collapsed_sections": [],
      "toc_visible": true,
      "machine_shape": "hm"
    },
    "kernelspec": {
      "name": "python3",
      "display_name": "Python 3"
    }
  },
  "cells": [
    {
      "cell_type": "markdown",
      "metadata": {
        "id": "dCGvUdYLZhlx",
        "colab_type": "text"
      },
      "source": [
        "**Задача**: предсказать, содержатся ли в тексте объявления контактные данные."
      ]
    },
    {
      "cell_type": "markdown",
      "metadata": {
        "id": "HMmjn1KpCyiq",
        "colab_type": "text"
      },
      "source": [
        "# Preparation"
      ]
    },
    {
      "cell_type": "markdown",
      "metadata": {
        "id": "BOtIN61qTcLz",
        "colab_type": "text"
      },
      "source": [
        "## Importing libraries"
      ]
    },
    {
      "cell_type": "code",
      "metadata": {
        "id": "HoJxofkV3N5y",
        "colab_type": "code",
        "outputId": "164e9d46-b0df-415e-f1fc-827918642fbe",
        "colab": {
          "base_uri": "https://localhost:8080/",
          "height": 71
        }
      },
      "source": [
        "import os\n",
        "import re\n",
        "import numpy as np\n",
        "import pandas as pd\n",
        "import lightgbm as lgb\n",
        "import scipy.sparse\n",
        "from scipy.sparse import csr_matrix, hstack\n",
        "from sklearn.base import BaseEstimator, TransformerMixin\n",
        "from sklearn.compose import make_column_transformer\n",
        "from sklearn.feature_extraction.text import CountVectorizer\n",
        "from sklearn.metrics import plot_roc_curve, roc_auc_score\n",
        "from sklearn.preprocessing import OneHotEncoder\n",
        "import matplotlib.pyplot as plt\n",
        "import seaborn as sns\n",
        "sns.set(style=\"darkgrid\")"
      ],
      "execution_count": 0,
      "outputs": [
        {
          "output_type": "stream",
          "text": [
            "/usr/local/lib/python3.6/dist-packages/statsmodels/tools/_testing.py:19: FutureWarning: pandas.util.testing is deprecated. Use the functions in the public API at pandas.testing instead.\n",
            "  import pandas.util.testing as tm\n"
          ],
          "name": "stderr"
        }
      ]
    },
    {
      "cell_type": "markdown",
      "metadata": {
        "id": "Jp6qfXseCsRb",
        "colab_type": "text"
      },
      "source": [
        "## Loading data"
      ]
    },
    {
      "cell_type": "code",
      "metadata": {
        "id": "URxjUkuW3GcJ",
        "colab_type": "code",
        "colab": {}
      },
      "source": [
        "train = pd.read_csv('train.csv')\n",
        "val = pd.read_csv('val.csv')"
      ],
      "execution_count": 0,
      "outputs": []
    },
    {
      "cell_type": "code",
      "metadata": {
        "id": "-R42rPUubyFE",
        "colab_type": "code",
        "colab": {
          "base_uri": "https://localhost:8080/",
          "height": 289
        },
        "outputId": "056d7654-88e4-465b-8b82-40be21a475ba"
      },
      "source": [
        "train.info()"
      ],
      "execution_count": 0,
      "outputs": [
        {
          "output_type": "stream",
          "text": [
            "<class 'pandas.core.frame.DataFrame'>\n",
            "RangeIndex: 984487 entries, 0 to 984486\n",
            "Data columns (total 9 columns):\n",
            " #   Column              Non-Null Count   Dtype  \n",
            "---  ------              --------------   -----  \n",
            " 0   title               984487 non-null  object \n",
            " 1   description         984487 non-null  object \n",
            " 2   subcategory         984487 non-null  object \n",
            " 3   category            984487 non-null  object \n",
            " 4   price               926439 non-null  float64\n",
            " 5   region              984487 non-null  object \n",
            " 6   city                984487 non-null  object \n",
            " 7   datetime_submitted  984487 non-null  object \n",
            " 8   is_bad              984487 non-null  int64  \n",
            "dtypes: float64(1), int64(1), object(7)\n",
            "memory usage: 67.6+ MB\n"
          ],
          "name": "stdout"
        }
      ]
    },
    {
      "cell_type": "code",
      "metadata": {
        "id": "Rjxzui1Gb08J",
        "colab_type": "code",
        "colab": {
          "base_uri": "https://localhost:8080/",
          "height": 289
        },
        "outputId": "169a50f2-91cb-4131-de1a-b2f38cfe378c"
      },
      "source": [
        "val.info()"
      ],
      "execution_count": 0,
      "outputs": [
        {
          "output_type": "stream",
          "text": [
            "<class 'pandas.core.frame.DataFrame'>\n",
            "RangeIndex: 16237 entries, 0 to 16236\n",
            "Data columns (total 9 columns):\n",
            " #   Column              Non-Null Count  Dtype  \n",
            "---  ------              --------------  -----  \n",
            " 0   title               16237 non-null  object \n",
            " 1   description         16237 non-null  object \n",
            " 2   subcategory         16237 non-null  object \n",
            " 3   category            16237 non-null  object \n",
            " 4   price               15374 non-null  float64\n",
            " 5   region              16237 non-null  object \n",
            " 6   city                16237 non-null  object \n",
            " 7   datetime_submitted  16237 non-null  object \n",
            " 8   is_bad              16237 non-null  int64  \n",
            "dtypes: float64(1), int64(1), object(7)\n",
            "memory usage: 1.1+ MB\n"
          ],
          "name": "stdout"
        }
      ]
    },
    {
      "cell_type": "code",
      "metadata": {
        "id": "cPOLPTjsJ2og",
        "colab_type": "code",
        "colab": {
          "base_uri": "https://localhost:8080/",
          "height": 1000
        },
        "outputId": "f9392745-c259-4d77-e673-2d961cf03aa6"
      },
      "source": [
        "with pd.option_context('display.max_colwidth', -1):\n",
        "  display(train.sample(10))"
      ],
      "execution_count": 0,
      "outputs": [
        {
          "output_type": "display_data",
          "data": {
            "text/html": [
              "<div>\n",
              "<style scoped>\n",
              "    .dataframe tbody tr th:only-of-type {\n",
              "        vertical-align: middle;\n",
              "    }\n",
              "\n",
              "    .dataframe tbody tr th {\n",
              "        vertical-align: top;\n",
              "    }\n",
              "\n",
              "    .dataframe thead th {\n",
              "        text-align: right;\n",
              "    }\n",
              "</style>\n",
              "<table border=\"1\" class=\"dataframe\">\n",
              "  <thead>\n",
              "    <tr style=\"text-align: right;\">\n",
              "      <th></th>\n",
              "      <th>title</th>\n",
              "      <th>description</th>\n",
              "      <th>subcategory</th>\n",
              "      <th>category</th>\n",
              "      <th>price</th>\n",
              "      <th>region</th>\n",
              "      <th>city</th>\n",
              "      <th>datetime_submitted</th>\n",
              "      <th>is_bad</th>\n",
              "    </tr>\n",
              "  </thead>\n",
              "  <tbody>\n",
              "    <tr>\n",
              "      <th>330770</th>\n",
              "      <td>Роликии с защитой</td>\n",
              "      <td>комлекта роликов размер 48  с комплектом защиты в сумке.</td>\n",
              "      <td>Спорт и отдых</td>\n",
              "      <td>Хобби и отдых</td>\n",
              "      <td>5000.0</td>\n",
              "      <td>Краснодарский край</td>\n",
              "      <td>Краснодар</td>\n",
              "      <td>2019-07-15 14:12:36.171778</td>\n",
              "      <td>0</td>\n",
              "    </tr>\n",
              "    <tr>\n",
              "      <th>887692</th>\n",
              "      <td>Свадебная шубка</td>\n",
              "      <td>Укороченная шубка из искусственного меха, рукав до середины локтя. Размер 14-11</td>\n",
              "      <td>Одежда, обувь, аксессуары</td>\n",
              "      <td>Личные вещи</td>\n",
              "      <td>500.0</td>\n",
              "      <td>Рязанская область</td>\n",
              "      <td>Рязань</td>\n",
              "      <td>2019-09-27 21:23:00.636090</td>\n",
              "      <td>0</td>\n",
              "    </tr>\n",
              "    <tr>\n",
              "      <th>179508</th>\n",
              "      <td>Щенки в добрые руки</td>\n",
              "      <td>Здоровые щенки, 3 мес. Смесь лабрадора и овчарки/\\nЗвонить по номеру тел. +7967-134-89-74</td>\n",
              "      <td>Собаки</td>\n",
              "      <td>Животные</td>\n",
              "      <td>NaN</td>\n",
              "      <td>Краснодарский край</td>\n",
              "      <td>Сочи</td>\n",
              "      <td>2019-06-23 18:10:01.444462</td>\n",
              "      <td>1</td>\n",
              "    </tr>\n",
              "    <tr>\n",
              "      <th>894275</th>\n",
              "      <td>ВАЗ 16099, 1001</td>\n",
              "      <td>На запчасти , заводиться , все вопросы по телефону 89563020335/\\nКоробка и движок в порядке /\\nТорг приветствуется</td>\n",
              "      <td>Автомобили</td>\n",
              "      <td>Транспорт</td>\n",
              "      <td>20000.0</td>\n",
              "      <td>Татарстан</td>\n",
              "      <td>Казань</td>\n",
              "      <td>2019-09-28 17:20:57.978784</td>\n",
              "      <td>1</td>\n",
              "    </tr>\n",
              "    <tr>\n",
              "      <th>348277</th>\n",
              "      <td>Горный велосипед челенджер генесис</td>\n",
              "      <td>на ходу все работает ,камера колеса в подорок .</td>\n",
              "      <td>Велосипеды</td>\n",
              "      <td>Хобби и отдых</td>\n",
              "      <td>8000.0</td>\n",
              "      <td>Россия</td>\n",
              "      <td>Москва</td>\n",
              "      <td>2019-07-17 18:45:21.040645</td>\n",
              "      <td>0</td>\n",
              "    </tr>\n",
              "    <tr>\n",
              "      <th>160304</th>\n",
              "      <td>Продам учебник по биологии 9 класс</td>\n",
              "      <td>Учебник по биологии 9 класс ФГОС. Данилова,Романова 4051 год</td>\n",
              "      <td>Товары для детей и игрушки</td>\n",
              "      <td>Личные вещи</td>\n",
              "      <td>300.0</td>\n",
              "      <td>Орловская область</td>\n",
              "      <td>Орёл</td>\n",
              "      <td>2019-06-21 11:45:18.670358</td>\n",
              "      <td>0</td>\n",
              "    </tr>\n",
              "    <tr>\n",
              "      <th>302603</th>\n",
              "      <td>Британские котята вислоухие</td>\n",
              "      <td>6 котёнка от британки (мама на последнем фото). Все девочки, 1 вислоухая, 1 прямоухая</td>\n",
              "      <td>Кошки</td>\n",
              "      <td>Животные</td>\n",
              "      <td>NaN</td>\n",
              "      <td>Тамбовская область</td>\n",
              "      <td>Тамбов</td>\n",
              "      <td>2019-07-11 08:58:28.277367</td>\n",
              "      <td>0</td>\n",
              "    </tr>\n",
              "    <tr>\n",
              "      <th>593306</th>\n",
              "      <td>Спиральные сверла по дереву</td>\n",
              "      <td>спиральные сверла 10*540, 68*400, 68*640, 64*540, 65*540, все сверла новые некоторые покрылись налетом потому что долго лежали первое значение диаметр, второе значение длинна.</td>\n",
              "      <td>Ремонт и строительство</td>\n",
              "      <td>Для дома и дачи</td>\n",
              "      <td>1000.0</td>\n",
              "      <td>Красноярский край</td>\n",
              "      <td>Красноярск</td>\n",
              "      <td>2019-08-20 15:32:16.726103</td>\n",
              "      <td>0</td>\n",
              "    </tr>\n",
              "    <tr>\n",
              "      <th>115634</th>\n",
              "      <td>Межкомнатные двери</td>\n",
              "      <td>межкомнатные двери 1  деревянные двери по 30см цена 1000</td>\n",
              "      <td>Ремонт и строительство</td>\n",
              "      <td>Для дома и дачи</td>\n",
              "      <td>2000.0</td>\n",
              "      <td>Татарстан</td>\n",
              "      <td>Нижнекамск</td>\n",
              "      <td>2019-06-15 20:51:15.496358</td>\n",
              "      <td>0</td>\n",
              "    </tr>\n",
              "    <tr>\n",
              "      <th>266005</th>\n",
              "      <td>Фасадчик</td>\n",
              "      <td>Описание работодателя:/\\n/\\nСтроительной компании требуется звено на фасадные работы. Коттеджное строительство. /\\n/\\nТребования:/\\n/\\n- Опыт работы с каменной ватой; /\\n- Нанесение декоративных камешковых штукатурок \"барашек\". /\\n- Приветствуются специалисты с опытом работы на вент фасадах./\\n/\\nУсловия:/\\n/\\n- Официальное трудоустройство/\\n- Еженедельные авансы и выдача зарплаты два раза  в месяц по объемам выполненых работ (сдельная зарплата)/\\n- обеспечение спец одеждой и всем необходимым инструментом/\\n/\\nЖилье и питание не предоставляется, транспортные расходы не возмещаются. Посредники не беспокойте</td>\n",
              "      <td>Вакансии</td>\n",
              "      <td>Работа</td>\n",
              "      <td>60000.0</td>\n",
              "      <td>Крым</td>\n",
              "      <td>Ялта</td>\n",
              "      <td>2019-07-06 10:19:55.914766</td>\n",
              "      <td>0</td>\n",
              "    </tr>\n",
              "  </tbody>\n",
              "</table>\n",
              "</div>"
            ],
            "text/plain": [
              "                                     title  ... is_bad\n",
              "330770  Роликии с защитой                   ...  0    \n",
              "887692  Свадебная шубка                     ...  0    \n",
              "179508  Щенки в добрые руки                 ...  1    \n",
              "894275  ВАЗ 16099, 1001                     ...  1    \n",
              "348277  Горный велосипед челенджер генесис  ...  0    \n",
              "160304  Продам учебник по биологии 9 класс  ...  0    \n",
              "302603  Британские котята вислоухие         ...  0    \n",
              "593306  Спиральные сверла по дереву         ...  0    \n",
              "115634  Межкомнатные двери                  ...  0    \n",
              "266005  Фасадчик                            ...  0    \n",
              "\n",
              "[10 rows x 9 columns]"
            ]
          },
          "metadata": {
            "tags": []
          }
        }
      ]
    },
    {
      "cell_type": "markdown",
      "metadata": {
        "id": "OOCDzPSDCg-S",
        "colab_type": "text"
      },
      "source": [
        "# Features"
      ]
    },
    {
      "cell_type": "markdown",
      "metadata": {
        "id": "QV0svJ-y3bxO",
        "colab_type": "text"
      },
      "source": [
        "## Classes"
      ]
    },
    {
      "cell_type": "markdown",
      "metadata": {
        "id": "-0l-aCPfDMQE",
        "colab_type": "text"
      },
      "source": [
        "### Substring matching"
      ]
    },
    {
      "cell_type": "code",
      "metadata": {
        "id": "c6_uUYxaQQc2",
        "colab_type": "code",
        "colab": {}
      },
      "source": [
        "class SubstringMatcher(BaseEstimator, TransformerMixin):\n",
        "  def __init__(self, subs, **kwargs):\n",
        "    self.subs = subs\n",
        "    super().__init__(**kwargs)\n",
        "\n",
        "  def fit(self, X, y=None):\n",
        "    return self\n",
        "  \n",
        "  def has_substring(self, sub):\n",
        "    def fn(str):  \n",
        "      if str.lower().find(sub) > 0:\n",
        "        return 1\n",
        "      else:\n",
        "        return 0\n",
        "    return fn\n",
        "\n",
        "  def transform(self, X, y=None):\n",
        "    res = []\n",
        "    for sub in self.subs:\n",
        "      res.append(csr_matrix(X.apply(self.has_substring(sub))).T)\n",
        "    return hstack(res, format='csr', dtype=np.float64)\n",
        "\n",
        "  def get_feature_names(self):\n",
        "    return self.subs"
      ],
      "execution_count": 0,
      "outputs": []
    },
    {
      "cell_type": "code",
      "metadata": {
        "id": "amO2wCeoKVsN",
        "colab_type": "code",
        "colab": {}
      },
      "source": [
        "class RegexMatcher(BaseEstimator, TransformerMixin):\n",
        "  def __init__(self, funcs, **kwargs):\n",
        "    self.funcs = funcs\n",
        "    super().__init__(**kwargs)\n",
        "\n",
        "  def fit(self, X, y=None):\n",
        "    return self\n",
        "  \n",
        "  def transform(self, X, y=None):\n",
        "    res = []\n",
        "    for func in self.funcs:\n",
        "      res.append(csr_matrix(X.apply(func)).T)\n",
        "    return hstack(res, format='csr', dtype=np.float64)\n",
        "\n",
        "  def get_feature_names(self):\n",
        "    return [x.__name__ for x in self.funcs]\n",
        "\n",
        "\n",
        "def number(s):\n",
        "  if re.search(r'(\\d.*){6,11}', s):\n",
        "    return 1\n",
        "  else:\n",
        "    return 0\n",
        "\n",
        "def number2(s):\n",
        "  if re.match(r'\\d{6,11}', re.sub('\\D', '', s)):\n",
        "    return 1\n",
        "  else:\n",
        "    return 0\n",
        "    \n",
        "def number3(s):\n",
        "  if re.search(r'\\d{6,11}', re.sub('\\s', '', s)):\n",
        "    return 1\n",
        "  else:\n",
        "    return 0"
      ],
      "execution_count": 0,
      "outputs": []
    },
    {
      "cell_type": "markdown",
      "metadata": {
        "id": "ZKO_rxC9DfSj",
        "colab_type": "text"
      },
      "source": [
        "### Tokenizing"
      ]
    },
    {
      "cell_type": "code",
      "metadata": {
        "id": "I9gO56pC5yWI",
        "colab_type": "code",
        "colab": {}
      },
      "source": [
        "def tokenizer(s):\n",
        "  s = re.sub(r'\\W', ' ', s)\n",
        "  s = re.sub(r'_', '', s)\n",
        "  s = re.sub(r'(?<=\\d)(\\D)', r' \\1', s)\n",
        "  s = re.sub(r'(\\D)(?=\\d)', r'\\1 ', s)\n",
        "  s = re.sub(r'\\d', '0', s)\n",
        "  return s.lower().split()"
      ],
      "execution_count": 0,
      "outputs": []
    },
    {
      "cell_type": "markdown",
      "metadata": {
        "id": "5vjfdPtDVz4r",
        "colab_type": "text"
      },
      "source": [
        "### Passthrough class for feature names"
      ]
    },
    {
      "cell_type": "code",
      "metadata": {
        "id": "_Z18ZADSPJYr",
        "colab_type": "code",
        "colab": {}
      },
      "source": [
        "class Passthrough(BaseEstimator, TransformerMixin):\n",
        "\n",
        "  def fit(self, X, y=None):\n",
        "    self.columns = X.columns\n",
        "    return self\n",
        "  \n",
        "  def transform(self, X, y=None):\n",
        "    return X\n",
        "\n",
        "  def get_feature_names(self):\n",
        "    return self.columns"
      ],
      "execution_count": 0,
      "outputs": []
    },
    {
      "cell_type": "markdown",
      "metadata": {
        "id": "d0VSjwhoDp4u",
        "colab_type": "text"
      },
      "source": [
        "## Features Pipeline"
      ]
    },
    {
      "cell_type": "code",
      "metadata": {
        "id": "ur7jFM3TJfme",
        "colab_type": "code",
        "outputId": "f16bb407-f9b7-4c57-8f71-77831c53e881",
        "colab": {
          "base_uri": "https://localhost:8080/",
          "height": 68
        }
      },
      "source": [
        "%%time\n",
        "\n",
        "pipeline = make_column_transformer(\n",
        "    (OneHotEncoder(handle_unknown='ignore'), ['subcategory', 'category', 'region']),\n",
        "    (CountVectorizer(min_df=1000, token_pattern=r'.+'), 'city'),\n",
        "    (Passthrough(), ['price']),\n",
        "    (SubstringMatcher(subs=['+', 'звон', '@']), 'description'),\n",
        "    (RegexMatcher(funcs=[number, number2, number3]), 'description'),\n",
        "    (CountVectorizer(min_df=1000,\n",
        "                     analyzer='word',\n",
        "                     ngram_range=(1,2),\n",
        "                     tokenizer=tokenizer), 'description'),\n",
        "    )\n",
        "\n",
        "X_train = pipeline.fit_transform(train.drop(columns=['is_bad']))\n",
        "X_test = pipeline.transform(val.drop(columns=['is_bad']))\n",
        "  \n",
        "y_train = train.is_bad\n",
        "y_test = val.is_bad\n",
        "\n",
        "print(f'X_train: {X_train.shape}, X_test: {X_test.shape}')"
      ],
      "execution_count": 0,
      "outputs": [
        {
          "output_type": "stream",
          "text": [
            "X_train: (984487, 11861), X_test: (16237, 11861)\n",
            "CPU times: user 6min 42s, sys: 6.86 s, total: 6min 49s\n",
            "Wall time: 6min 49s\n"
          ],
          "name": "stdout"
        }
      ]
    },
    {
      "cell_type": "markdown",
      "metadata": {
        "id": "K00Qc7QfD6SX",
        "colab_type": "text"
      },
      "source": [
        "# Model training"
      ]
    },
    {
      "cell_type": "code",
      "metadata": {
        "id": "TpL0aA_o9hgn",
        "colab_type": "code",
        "outputId": "9a035905-ae45-4916-fbf5-db433027ccef",
        "colab": {
          "base_uri": "https://localhost:8080/",
          "height": 510
        }
      },
      "source": [
        "model = lgb.LGBMClassifier(num_leaves=2**10-1,\n",
        "                           max_depth=-1,\n",
        "                           learning_rate=0.1,\n",
        "                           n_estimators=500,\n",
        "                           min_data_in_leaf=40,\n",
        "                           feature_fraction=0.95,\n",
        "                           bagging_freq=7,\n",
        "                           bagging_fraction=0.5,\n",
        "                           metric='auc',\n",
        "                           is_unbalance=True,\n",
        "                           random_state=42)\n",
        "%time model.fit(X_train,\n",
        "                y_train,\n",
        "                eval_set=[(X_train, y_train),\n",
        "                          (X_test, y_test)],\n",
        "                eval_metric='auc',\n",
        "                verbose=10,\n",
        "                early_stopping_rounds=30)"
      ],
      "execution_count": 0,
      "outputs": [
        {
          "output_type": "stream",
          "text": [
            "Training until validation scores don't improve for 30 rounds\n",
            "[10]\ttraining's auc: 0.979545\tvalid_1's auc: 0.956911\n",
            "[20]\ttraining's auc: 0.98369\tvalid_1's auc: 0.963597\n",
            "[30]\ttraining's auc: 0.987035\tvalid_1's auc: 0.968107\n",
            "[40]\ttraining's auc: 0.989746\tvalid_1's auc: 0.971275\n",
            "[50]\ttraining's auc: 0.991631\tvalid_1's auc: 0.9733\n",
            "[60]\ttraining's auc: 0.993124\tvalid_1's auc: 0.97476\n",
            "[70]\ttraining's auc: 0.9942\tvalid_1's auc: 0.975502\n",
            "[80]\ttraining's auc: 0.995062\tvalid_1's auc: 0.97609\n",
            "[90]\ttraining's auc: 0.995744\tvalid_1's auc: 0.97657\n",
            "[100]\ttraining's auc: 0.996348\tvalid_1's auc: 0.976712\n",
            "[110]\ttraining's auc: 0.99683\tvalid_1's auc: 0.976801\n",
            "[120]\ttraining's auc: 0.997212\tvalid_1's auc: 0.976635\n",
            "[130]\ttraining's auc: 0.997584\tvalid_1's auc: 0.976751\n",
            "Early stopping, best iteration is:\n",
            "[106]\ttraining's auc: 0.996643\tvalid_1's auc: 0.976843\n",
            "CPU times: user 48min, sys: 9.83 s, total: 48min 10s\n",
            "Wall time: 12min 14s\n"
          ],
          "name": "stdout"
        }
      ]
    },
    {
      "cell_type": "markdown",
      "metadata": {
        "id": "bc5zGoU0saEo",
        "colab_type": "text"
      },
      "source": [
        "# Results"
      ]
    },
    {
      "cell_type": "markdown",
      "metadata": {
        "id": "eryNlAXEEAUO",
        "colab_type": "text"
      },
      "source": [
        "## Learning curves, overall ROC AUC"
      ]
    },
    {
      "cell_type": "code",
      "metadata": {
        "id": "piWRw3h5soVh",
        "colab_type": "code",
        "colab": {
          "base_uri": "https://localhost:8080/",
          "height": 372
        },
        "outputId": "bed6dc72-1698-4322-a3f0-254e1e12b2e2"
      },
      "source": [
        "fig, (ax1, ax2) = plt.subplots(1, 2, figsize=(12,5))\n",
        "ax2.set_title('ROC AUC')\n",
        "lgb.plot_metric(model, metric='auc', ax=ax1)\n",
        "plot_roc_curve(model, X_test, y_test, name='test', ax=ax2)\n",
        "plot_roc_curve(model, X_train, y_train, name='train', ax=ax2)"
      ],
      "execution_count": 0,
      "outputs": [
        {
          "output_type": "execute_result",
          "data": {
            "text/plain": [
              "<sklearn.metrics._plot.roc_curve.RocCurveDisplay at 0x7f3069681f28>"
            ]
          },
          "metadata": {
            "tags": []
          },
          "execution_count": 0
        },
        {
          "output_type": "display_data",
          "data": {
            "image/png": "[encoded data removed]",
            "text/plain": [
              "<Figure size 864x360 with 2 Axes>"
            ]
          },
          "metadata": {
            "tags": []
          }
        }
      ]
    },
    {
      "cell_type": "markdown",
      "metadata": {
        "id": "nYzQdkaiEKIg",
        "colab_type": "text"
      },
      "source": [
        "## ROC AUC by category"
      ]
    },
    {
      "cell_type": "code",
      "metadata": {
        "id": "6R5Te9OkyKRw",
        "colab_type": "code",
        "colab": {
          "base_uri": "https://localhost:8080/",
          "height": 204
        },
        "outputId": "e3bb4240-3023-4aa6-e5e1-1cd79493b082"
      },
      "source": [
        "y_pred = pd.Series(model.predict_proba(X_test)[:, 1], index=y_test.index)\n",
        "roc_auc_by_category = dict()\n",
        "for category in train.category.astype('category').dtype.categories:\n",
        "  idx = val[val.category == category].index\n",
        "  roc_auc = roc_auc_score(y_test[idx], y_pred[idx])\n",
        "  roc_auc_by_category[category] = roc_auc\n",
        "  print(f'{category}: {roc_auc:0.2f}')\n",
        "print(f'Средний ROC AUC: {np.mean(list(roc_auc_by_category.values())):0.2f}')"
      ],
      "execution_count": 0,
      "outputs": [
        {
          "output_type": "stream",
          "text": [
            "Бытовая электроника: 0.95\n",
            "Для бизнеса: 0.96\n",
            "Для дома и дачи: 0.96\n",
            "Животные: 0.95\n",
            "Личные вещи: 0.87\n",
            "Недвижимость: 0.99\n",
            "Работа: 0.94\n",
            "Транспорт: 0.99\n",
            "Услуги: 0.92\n",
            "Хобби и отдых: 0.95\n",
            "Средний ROC AUC: 0.95\n"
          ],
          "name": "stdout"
        }
      ]
    },
    {
      "cell_type": "markdown",
      "metadata": {
        "id": "n2WW-VzpEjuu",
        "colab_type": "text"
      },
      "source": [
        "## Feature importances"
      ]
    },
    {
      "cell_type": "code",
      "metadata": {
        "id": "QXKSP3njBjkP",
        "colab_type": "code",
        "colab": {
          "base_uri": "https://localhost:8080/",
          "height": 884
        },
        "outputId": "1aa30383-3b99-49e5-a7cd-0b704f448ecb"
      },
      "source": [
        "with pd.option_context('display.float_format', '{:.0f}'.format):\n",
        "  feature_names = pipeline.get_feature_names()\n",
        "  display(pd.Series(model.booster_.feature_importance(importance_type='gain'),\n",
        "                    index=feature_names).sort_values(ascending=False).head(50))"
      ],
      "execution_count": 0,
      "outputs": [
        {
          "output_type": "display_data",
          "data": {
            "text/plain": [
              "countvectorizer-2__00000000000             824996\n",
              "countvectorizer-2__000 00                  326111\n",
              "countvectorizer-2__ru                      233330\n",
              "countvectorizer-2__звонить                 173776\n",
              "countvectorizer-2__com                     145941\n",
              "countvectorizer-2__00                      144220\n",
              "countvectorizer-2__восемь                  129221\n",
              "passthrough__price                         119820\n",
              "regexmatcher__number                       116975\n",
              "countvectorizer-2__ру                      99250 \n",
              "countvectorizer-2__тел                     88361 \n",
              "countvectorizer-2__0000                    73777 \n",
              "countvectorizer-2__000                     64310 \n",
              "onehotencoder__x0_Запчасти и аксессуары    63074 \n",
              "countvectorizer-2__0                       57315 \n",
              "countvectorizer-2__00 00                   57221 \n",
              "onehotencoder__x1_Бытовая электроника      47402 \n",
              "regexmatcher__number2                      40796 \n",
              "countvectorizer-2__в                       39184 \n",
              "countvectorizer-2__0 000                   38506 \n",
              "regexmatcher__number3                      37670 \n",
              "countvectorizer-2__гарантия                34047 \n",
              "onehotencoder__x1_Работа                   33268 \n",
              "countvectorizer-2__https                   31176 \n",
              "countvectorizer-2__0000000000              29443 \n",
              "onehotencoder__x0_Предложение услуг        27636 \n",
              "countvectorizer-2__девять                  27382 \n",
              "countvectorizer-2__000 000                 26733 \n",
              "countvectorizer-2__девятьсот               26088 \n",
              "countvectorizer-2__0 0                     23382 \n",
              "countvectorizer-2__рф                      23210 \n",
              "countvectorizer-2__bmw                     21540 \n",
              "onehotencoder__x1_Личные вещи              19711 \n",
              "onehotencoder__x0_Резюме                   18751 \n",
              "countvectorizer-2__и                       18503 \n",
              "onehotencoder__x0_Ремонт и строительство   18235 \n",
              "onehotencoder__x2_Дагестан                 18213 \n",
              "onehotencoder__x2_Чеченская Республика     17241 \n",
              "onehotencoder__x2_Россия                   16769 \n",
              "countvectorizer-2__до                      16745 \n",
              "countvectorizer-2__телефону 0              16449 \n",
              "substringmatcher__@                        16435 \n",
              "countvectorizer-2__на                      15893 \n",
              "countvectorizer-2__сайте                   15383 \n",
              "countvectorizer-2__с                       14618 \n",
              "countvectorizer-2__000 0000                14572 \n",
              "countvectorizer-2__звонить по              14087 \n",
              "countvectorizer-2__cme 000                 12807 \n",
              "countvectorizer-2__000000                  12615 \n",
              "countvectorizer-2__артикул                 11847 \n",
              "dtype: float64"
            ]
          },
          "metadata": {
            "tags": []
          }
        }
      ]
    }
  ]
}
